{
 "cells": [
  {
   "cell_type": "code",
   "execution_count": 1,
   "metadata": {
    "collapsed": false
   },
   "outputs": [
    {
     "name": "stderr",
     "output_type": "stream",
     "text": [
      "Using TensorFlow backend.\n"
     ]
    },
    {
     "name": "stdout",
     "output_type": "stream",
     "text": [
      "stekaiser 2016-11-30 10:38:42 \n",
      "\n",
      "CPython 3.5.2\n",
      "IPython 5.1.0\n",
      "\n",
      "numpy 1.11.2\n",
      "pandas 0.19.1\n",
      "matplotlib 1.5.3\n",
      "keras 1.1.1\n",
      "tensorflow 0.11.0\n",
      "Git hash: HEAD\n"
     ]
    }
   ],
   "source": [
    "%matplotlib inline\n",
    "%load_ext autoreload\n",
    "%autoreload 1\n",
    "\n",
    "%load_ext watermark\n",
    "%watermark -a 'stekaiser' -d -t -v -p numpy,pandas,matplotlib,keras,tensorflow -g"
   ]
  },
  {
   "cell_type": "code",
   "execution_count": 2,
   "metadata": {
    "collapsed": true
   },
   "outputs": [],
   "source": [
    "import os\n",
    "import sys\n",
    "\n",
    "project_dir = os.path.join(os.getcwd(), os.pardir)\n",
    "sys.path.insert(0, project_dir)\n",
    "\n",
    "import pandas as pd\n",
    "import matplotlib.pyplot as plt\n",
    "import seaborn as sns\n",
    "import numpy as np\n",
    "import zipfile\n",
    "from dotenv import find_dotenv, load_dotenv\n",
    "\n",
    "# show all columns\n",
    "pd.set_option('display.max_columns', None)"
   ]
  },
  {
   "cell_type": "code",
   "execution_count": 3,
   "metadata": {
    "collapsed": true
   },
   "outputs": [],
   "source": [
    "from keras import backend as K\n",
    "from keras.models import Sequential\n",
    "from keras.layers import Dense\n",
    "from keras.layers import LSTM\n",
    "from keras.layers import Convolution1D\n",
    "from keras.layers import MaxPooling1D,Flatten\n",
    "from keras.layers import GRU\n",
    "from keras.layers import Dropout\n",
    "from keras.regularizers import l2, activity_l2\n",
    "from keras.layers.embeddings import Embedding\n",
    "from keras.optimizers import Adam\n",
    "from keras.preprocessing import sequence\n",
    "from keras.utils import np_utils\n",
    "from keras.models import load_model\n",
    "from keras.callbacks import TensorBoard,ModelCheckpoint,EarlyStopping,Callback\n",
    "# fix random seed for reproducibility\n",
    "np.random.seed(7)\n",
    "\n",
    "sys.setrecursionlimit(50000)"
   ]
  },
  {
   "cell_type": "code",
   "execution_count": 4,
   "metadata": {
    "collapsed": true
   },
   "outputs": [],
   "source": [
    "import itertools\n",
    "from sklearn import preprocessing\n",
    "from sklearn import model_selection\n",
    "from sklearn import metrics"
   ]
  },
  {
   "cell_type": "code",
   "execution_count": 5,
   "metadata": {
    "collapsed": true
   },
   "outputs": [],
   "source": [
    "batch_size = 64\n",
    "nTimesteps = 128"
   ]
  },
  {
   "cell_type": "code",
   "execution_count": 6,
   "metadata": {
    "collapsed": false
   },
   "outputs": [
    {
     "data": {
      "text/html": [
       "<div>\n",
       "<table border=\"1\" class=\"dataframe\">\n",
       "  <thead>\n",
       "    <tr style=\"text-align: right;\">\n",
       "      <th></th>\n",
       "      <th>0</th>\n",
       "      <th>1</th>\n",
       "      <th>2</th>\n",
       "      <th>3</th>\n",
       "      <th>4</th>\n",
       "      <th>5</th>\n",
       "    </tr>\n",
       "  </thead>\n",
       "  <tbody>\n",
       "    <tr>\n",
       "      <th>0</th>\n",
       "      <td>-0.675415</td>\n",
       "      <td>0.119995</td>\n",
       "      <td>0.767578</td>\n",
       "      <td>-0.095274</td>\n",
       "      <td>-0.266768</td>\n",
       "      <td>-0.213415</td>\n",
       "    </tr>\n",
       "    <tr>\n",
       "      <th>1</th>\n",
       "      <td>-0.678223</td>\n",
       "      <td>0.120972</td>\n",
       "      <td>0.772949</td>\n",
       "      <td>-0.323933</td>\n",
       "      <td>-0.400152</td>\n",
       "      <td>-0.571646</td>\n",
       "    </tr>\n",
       "    <tr>\n",
       "      <th>2</th>\n",
       "      <td>-0.679810</td>\n",
       "      <td>0.117310</td>\n",
       "      <td>0.770142</td>\n",
       "      <td>-0.434451</td>\n",
       "      <td>-0.457317</td>\n",
       "      <td>-0.567835</td>\n",
       "    </tr>\n",
       "    <tr>\n",
       "      <th>3</th>\n",
       "      <td>-0.681519</td>\n",
       "      <td>0.115234</td>\n",
       "      <td>0.767822</td>\n",
       "      <td>-0.125762</td>\n",
       "      <td>-0.514482</td>\n",
       "      <td>-0.522104</td>\n",
       "    </tr>\n",
       "    <tr>\n",
       "      <th>4</th>\n",
       "      <td>-0.680298</td>\n",
       "      <td>0.113770</td>\n",
       "      <td>0.773804</td>\n",
       "      <td>-0.053354</td>\n",
       "      <td>-0.327744</td>\n",
       "      <td>-0.472561</td>\n",
       "    </tr>\n",
       "  </tbody>\n",
       "</table>\n",
       "</div>"
      ],
      "text/plain": [
       "          0         1         2         3         4         5\n",
       "0 -0.675415  0.119995  0.767578 -0.095274 -0.266768 -0.213415\n",
       "1 -0.678223  0.120972  0.772949 -0.323933 -0.400152 -0.571646\n",
       "2 -0.679810  0.117310  0.770142 -0.434451 -0.457317 -0.567835\n",
       "3 -0.681519  0.115234  0.767822 -0.125762 -0.514482 -0.522104\n",
       "4 -0.680298  0.113770  0.773804 -0.053354 -0.327744 -0.472561"
      ]
     },
     "execution_count": 6,
     "metadata": {},
     "output_type": "execute_result"
    }
   ],
   "source": [
    "X = pd.read_csv('https://dl.dropboxusercontent.com/u/558313/keras-js/test.csv', header=None, nrows=nTimesteps*batch_size)\n",
    "X.head()"
   ]
  },
  {
   "cell_type": "code",
   "execution_count": 7,
   "metadata": {
    "collapsed": false
   },
   "outputs": [],
   "source": [
    "X = X.as_matrix()"
   ]
  },
  {
   "cell_type": "code",
   "execution_count": 8,
   "metadata": {
    "collapsed": false,
    "scrolled": true
   },
   "outputs": [
    {
     "data": {
      "text/plain": [
       "(8192, 6)"
      ]
     },
     "execution_count": 8,
     "metadata": {},
     "output_type": "execute_result"
    }
   ],
   "source": [
    "X.shape"
   ]
  },
  {
   "cell_type": "code",
   "execution_count": 9,
   "metadata": {
    "collapsed": false
   },
   "outputs": [
    {
     "data": {
      "text/plain": [
       "(64, 128, 6)"
      ]
     },
     "execution_count": 9,
     "metadata": {},
     "output_type": "execute_result"
    }
   ],
   "source": [
    "X = np.reshape(X, (-1, nTimesteps, 6))\n",
    "X.shape"
   ]
  },
  {
   "cell_type": "code",
   "execution_count": 10,
   "metadata": {
    "collapsed": false
   },
   "outputs": [
    {
     "name": "stderr",
     "output_type": "stream",
     "text": [
      "/home/steffen/bin/anaconda3/envs/equestic/lib/python3.5/site-packages/numpy/core/numeric.py:190: VisibleDeprecationWarning: using a non-integer number instead of an integer will result in an error in the future\n",
      "  a = empty(shape, dtype, order)\n",
      "/home/steffen/bin/anaconda3/envs/equestic/lib/python3.5/site-packages/ipykernel/__main__.py:1: VisibleDeprecationWarning: using a non-integer number instead of an integer will result in an error in the future\n",
      "  if __name__ == '__main__':\n"
     ]
    }
   ],
   "source": [
    "target = np.hstack((np.ones((1,batch_size/2)), np.zeros((1,batch_size/2))))\n",
    "target = np.transpose(target)"
   ]
  },
  {
   "cell_type": "code",
   "execution_count": 11,
   "metadata": {
    "collapsed": false
   },
   "outputs": [],
   "source": [
    "Y = np.column_stack((target, np.flipud(target)))"
   ]
  },
  {
   "cell_type": "code",
   "execution_count": 12,
   "metadata": {
    "collapsed": false
   },
   "outputs": [
    {
     "data": {
      "text/plain": [
       "(64, 2)"
      ]
     },
     "execution_count": 12,
     "metadata": {},
     "output_type": "execute_result"
    }
   ],
   "source": [
    "Y.shape"
   ]
  },
  {
   "cell_type": "code",
   "execution_count": 13,
   "metadata": {
    "collapsed": false
   },
   "outputs": [],
   "source": [
    "n_hidden = 64\n",
    "\n",
    "model = Sequential()\n",
    "model.add(LSTM(n_hidden,\n",
    "               return_sequences=True,\n",
    "               batch_input_shape=(batch_size, nTimesteps, X.shape[2])\n",
    "              ))\n",
    "model.add(Dropout(0.2))\n",
    "model.add(LSTM(n_hidden))\n",
    "model.add(Dropout(0.2))\n",
    "model.add(Dense(2, activation='softmax'))\n",
    "\n",
    "model.compile(loss='binary_crossentropy', optimizer='rmsprop', metrics=['accuracy'])"
   ]
  },
  {
   "cell_type": "code",
   "execution_count": 14,
   "metadata": {
    "collapsed": false
   },
   "outputs": [
    {
     "name": "stdout",
     "output_type": "stream",
     "text": [
      "____________________________________________________________________________________________________\n",
      "Layer (type)                     Output Shape          Param #     Connected to                     \n",
      "====================================================================================================\n",
      "lstm_1 (LSTM)                    (64, 128, 64)         18176       lstm_input_1[0][0]               \n",
      "____________________________________________________________________________________________________\n",
      "dropout_1 (Dropout)              (64, 128, 64)         0           lstm_1[0][0]                     \n",
      "____________________________________________________________________________________________________\n",
      "lstm_2 (LSTM)                    (64, 64)              33024       dropout_1[0][0]                  \n",
      "____________________________________________________________________________________________________\n",
      "dropout_2 (Dropout)              (64, 64)              0           lstm_2[0][0]                     \n",
      "____________________________________________________________________________________________________\n",
      "dense_1 (Dense)                  (64, 2)               130         dropout_2[0][0]                  \n",
      "====================================================================================================\n",
      "Total params: 51330\n",
      "____________________________________________________________________________________________________\n",
      "None\n"
     ]
    }
   ],
   "source": [
    "print(model.summary())"
   ]
  },
  {
   "cell_type": "code",
   "execution_count": 15,
   "metadata": {
    "collapsed": false
   },
   "outputs": [
    {
     "name": "stdout",
     "output_type": "stream",
     "text": [
      "Epoch 1/10\n",
      "64/64 [==============================] - 1s - loss: 0.7442 - acc: 0.4531\n",
      "Epoch 2/10\n",
      "64/64 [==============================] - 0s - loss: 0.5825 - acc: 0.6875\n",
      "Epoch 3/10\n",
      "64/64 [==============================] - 0s - loss: 0.4752 - acc: 0.8281\n",
      "Epoch 4/10\n",
      "64/64 [==============================] - 0s - loss: 0.4169 - acc: 0.8438\n",
      "Epoch 5/10\n",
      "64/64 [==============================] - 0s - loss: 0.3731 - acc: 0.9062\n",
      "Epoch 6/10\n",
      "64/64 [==============================] - 0s - loss: 0.3300 - acc: 0.9219\n",
      "Epoch 7/10\n",
      "64/64 [==============================] - 0s - loss: 0.2909 - acc: 0.9219\n",
      "Epoch 8/10\n",
      "64/64 [==============================] - 0s - loss: 0.2626 - acc: 0.9219\n",
      "Epoch 9/10\n",
      "64/64 [==============================] - 0s - loss: 0.2512 - acc: 0.9375\n",
      "Epoch 10/10\n",
      "64/64 [==============================] - 0s - loss: 0.2087 - acc: 0.9688\n"
     ]
    }
   ],
   "source": [
    "history = model.fit(X,Y,batch_size=batch_size)"
   ]
  },
  {
   "cell_type": "code",
   "execution_count": 16,
   "metadata": {
    "collapsed": true
   },
   "outputs": [],
   "source": [
    "model.save_weights('model.hdf5')\n",
    "with open('model.json', 'w') as f:\n",
    "    f.write(model.to_json())"
   ]
  },
  {
   "cell_type": "code",
   "execution_count": 17,
   "metadata": {
    "collapsed": true
   },
   "outputs": [],
   "source": [
    "!python encoder.py model.hdf5"
   ]
  },
  {
   "cell_type": "code",
   "execution_count": 19,
   "metadata": {
    "collapsed": false
   },
   "outputs": [
    {
     "data": {
      "text/plain": [
       "array([[ 0.31902331,  0.68097663],\n",
       "       [ 0.90960783,  0.09039216],\n",
       "       [ 0.87781721,  0.12218285],\n",
       "       [ 0.93825501,  0.06174501],\n",
       "       [ 0.88298303,  0.11701702],\n",
       "       [ 0.90666789,  0.09333213],\n",
       "       [ 0.94890225,  0.05109777],\n",
       "       [ 0.95128942,  0.04871054],\n",
       "       [ 0.94751382,  0.05248618],\n",
       "       [ 0.9138875 ,  0.0861125 ],\n",
       "       [ 0.91760355,  0.08239646],\n",
       "       [ 0.92549038,  0.07450963],\n",
       "       [ 0.89964533,  0.10035465],\n",
       "       [ 0.92959368,  0.07040635],\n",
       "       [ 0.90124363,  0.09875635],\n",
       "       [ 0.71693462,  0.28306538],\n",
       "       [ 0.76403737,  0.23596255],\n",
       "       [ 0.90429527,  0.09570475],\n",
       "       [ 0.95896363,  0.04103641],\n",
       "       [ 0.91777104,  0.08222899],\n",
       "       [ 0.80443317,  0.19556689],\n",
       "       [ 0.91082728,  0.08917277],\n",
       "       [ 0.85955209,  0.14044788],\n",
       "       [ 0.92486137,  0.07513864],\n",
       "       [ 0.86772078,  0.13227926],\n",
       "       [ 0.90468103,  0.09531894],\n",
       "       [ 0.92376173,  0.07623833],\n",
       "       [ 0.9630571 ,  0.03694282],\n",
       "       [ 0.93985224,  0.06014773],\n",
       "       [ 0.84595197,  0.15404803],\n",
       "       [ 0.54440671,  0.45559326],\n",
       "       [ 0.68346852,  0.31653157],\n",
       "       [ 0.05276677,  0.94723326],\n",
       "       [ 0.05208965,  0.94791043],\n",
       "       [ 0.16187637,  0.83812368],\n",
       "       [ 0.10317309,  0.89682692],\n",
       "       [ 0.09813669,  0.90186334],\n",
       "       [ 0.11567171,  0.88432825],\n",
       "       [ 0.03740156,  0.96259838],\n",
       "       [ 0.06264696,  0.93735307],\n",
       "       [ 0.06398057,  0.93601942],\n",
       "       [ 0.06703603,  0.93296403],\n",
       "       [ 0.07657364,  0.92342633],\n",
       "       [ 0.03945604,  0.96054393],\n",
       "       [ 0.15846846,  0.84153146],\n",
       "       [ 0.150226  ,  0.849774  ],\n",
       "       [ 0.19052769,  0.80947226],\n",
       "       [ 0.28538069,  0.71461922],\n",
       "       [ 0.08052361,  0.91947633],\n",
       "       [ 0.17588989,  0.82411015],\n",
       "       [ 0.83212739,  0.16787264],\n",
       "       [ 0.22069012,  0.77930993],\n",
       "       [ 0.15222527,  0.84777474],\n",
       "       [ 0.18736911,  0.81263089],\n",
       "       [ 0.15395932,  0.84604067],\n",
       "       [ 0.08125249,  0.91874754],\n",
       "       [ 0.06639987,  0.93360013],\n",
       "       [ 0.02997649,  0.97002351],\n",
       "       [ 0.03587273,  0.96412724],\n",
       "       [ 0.0872712 ,  0.91272879],\n",
       "       [ 0.10467398,  0.89532596],\n",
       "       [ 0.03835682,  0.96164322],\n",
       "       [ 0.0579748 ,  0.94202518],\n",
       "       [ 0.05826608,  0.94173396]], dtype=float32)"
      ]
     },
     "execution_count": 19,
     "metadata": {},
     "output_type": "execute_result"
    }
   ],
   "source": [
    "predictions = model.predict(X, batch_size=batch_size)\n",
    "predictions"
   ]
  },
  {
   "cell_type": "code",
   "execution_count": null,
   "metadata": {
    "collapsed": true
   },
   "outputs": [],
   "source": []
  }
 ],
 "metadata": {
  "kernelspec": {
   "display_name": "Python 3",
   "language": "python",
   "name": "python3"
  },
  "language_info": {
   "codemirror_mode": {
    "name": "ipython",
    "version": 3
   },
   "file_extension": ".py",
   "mimetype": "text/x-python",
   "name": "python",
   "nbconvert_exporter": "python",
   "pygments_lexer": "ipython3",
   "version": "3.5.2"
  }
 },
 "nbformat": 4,
 "nbformat_minor": 1
}
