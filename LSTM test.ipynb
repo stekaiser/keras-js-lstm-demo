{
 "cells": [
  {
   "cell_type": "code",
   "execution_count": 1,
   "metadata": {
    "collapsed": false
   },
   "outputs": [
    {
     "name": "stderr",
     "output_type": "stream",
     "text": [
      "Using TensorFlow backend.\n"
     ]
    },
    {
     "name": "stdout",
     "output_type": "stream",
     "text": [
      "stekaiser 2016-11-30 11:20:06 \n",
      "\n",
      "CPython 3.5.2\n",
      "IPython 5.1.0\n",
      "\n",
      "numpy 1.11.2\n",
      "pandas 0.19.1\n",
      "matplotlib 1.5.3\n",
      "keras 1.1.1\n",
      "tensorflow 0.11.0\n",
      "Git hash: 6c25dea87295c3a00dd4327adf0f0666af6e890c\n"
     ]
    }
   ],
   "source": [
    "%matplotlib inline\n",
    "%load_ext autoreload\n",
    "%autoreload 1\n",
    "\n",
    "%load_ext watermark\n",
    "%watermark -a 'stekaiser' -d -t -v -p numpy,pandas,matplotlib,keras,tensorflow -g"
   ]
  },
  {
   "cell_type": "code",
   "execution_count": 2,
   "metadata": {
    "collapsed": true
   },
   "outputs": [],
   "source": [
    "import os\n",
    "import sys\n",
    "\n",
    "project_dir = os.path.join(os.getcwd(), os.pardir)\n",
    "sys.path.insert(0, project_dir)\n",
    "\n",
    "import pandas as pd\n",
    "import matplotlib.pyplot as plt\n",
    "import seaborn as sns\n",
    "import numpy as np\n",
    "import zipfile\n",
    "from dotenv import find_dotenv, load_dotenv\n",
    "\n",
    "# show all columns\n",
    "pd.set_option('display.max_columns', None)"
   ]
  },
  {
   "cell_type": "code",
   "execution_count": 3,
   "metadata": {
    "collapsed": true
   },
   "outputs": [],
   "source": [
    "from keras import backend as K\n",
    "from keras.models import Sequential\n",
    "from keras.layers import Dense\n",
    "from keras.layers import LSTM\n",
    "from keras.layers import Convolution1D\n",
    "from keras.layers import MaxPooling1D,Flatten\n",
    "from keras.layers import GRU\n",
    "from keras.layers import Dropout\n",
    "from keras.regularizers import l2, activity_l2\n",
    "from keras.layers.embeddings import Embedding\n",
    "from keras.optimizers import Adam\n",
    "from keras.preprocessing import sequence\n",
    "from keras.utils import np_utils\n",
    "from keras.models import load_model\n",
    "from keras.callbacks import TensorBoard,ModelCheckpoint,EarlyStopping,Callback\n",
    "# fix random seed for reproducibility\n",
    "np.random.seed(7)\n",
    "\n",
    "sys.setrecursionlimit(50000)"
   ]
  },
  {
   "cell_type": "code",
   "execution_count": 4,
   "metadata": {
    "collapsed": true
   },
   "outputs": [],
   "source": [
    "import itertools\n",
    "from sklearn import preprocessing\n",
    "from sklearn import model_selection\n",
    "from sklearn import metrics"
   ]
  },
  {
   "cell_type": "code",
   "execution_count": 5,
   "metadata": {
    "collapsed": true
   },
   "outputs": [],
   "source": [
    "batch_size = 64\n",
    "nTimesteps = 128"
   ]
  },
  {
   "cell_type": "markdown",
   "metadata": {},
   "source": [
    "### Load data\n",
    "`(time x channels)`"
   ]
  },
  {
   "cell_type": "code",
   "execution_count": 6,
   "metadata": {
    "collapsed": false
   },
   "outputs": [
    {
     "data": {
      "text/html": [
       "<div>\n",
       "<table border=\"1\" class=\"dataframe\">\n",
       "  <thead>\n",
       "    <tr style=\"text-align: right;\">\n",
       "      <th></th>\n",
       "      <th>0</th>\n",
       "      <th>1</th>\n",
       "      <th>2</th>\n",
       "      <th>3</th>\n",
       "      <th>4</th>\n",
       "      <th>5</th>\n",
       "    </tr>\n",
       "  </thead>\n",
       "  <tbody>\n",
       "    <tr>\n",
       "      <th>0</th>\n",
       "      <td>0.620713</td>\n",
       "      <td>0.463101</td>\n",
       "      <td>0.869851</td>\n",
       "      <td>0.610158</td>\n",
       "      <td>0.702451</td>\n",
       "      <td>0.767094</td>\n",
       "    </tr>\n",
       "    <tr>\n",
       "      <th>1</th>\n",
       "      <td>0.797397</td>\n",
       "      <td>0.441206</td>\n",
       "      <td>0.753544</td>\n",
       "      <td>0.679309</td>\n",
       "      <td>0.524256</td>\n",
       "      <td>0.752844</td>\n",
       "    </tr>\n",
       "    <tr>\n",
       "      <th>2</th>\n",
       "      <td>0.587150</td>\n",
       "      <td>0.137027</td>\n",
       "      <td>0.938175</td>\n",
       "      <td>0.590607</td>\n",
       "      <td>0.840056</td>\n",
       "      <td>0.652926</td>\n",
       "    </tr>\n",
       "    <tr>\n",
       "      <th>3</th>\n",
       "      <td>0.176337</td>\n",
       "      <td>0.909013</td>\n",
       "      <td>0.356048</td>\n",
       "      <td>0.306722</td>\n",
       "      <td>0.134125</td>\n",
       "      <td>0.669478</td>\n",
       "    </tr>\n",
       "    <tr>\n",
       "      <th>4</th>\n",
       "      <td>0.790946</td>\n",
       "      <td>0.155954</td>\n",
       "      <td>0.173121</td>\n",
       "      <td>0.310723</td>\n",
       "      <td>0.989607</td>\n",
       "      <td>0.294101</td>\n",
       "    </tr>\n",
       "  </tbody>\n",
       "</table>\n",
       "</div>"
      ],
      "text/plain": [
       "          0         1         2         3         4         5\n",
       "0  0.620713  0.463101  0.869851  0.610158  0.702451  0.767094\n",
       "1  0.797397  0.441206  0.753544  0.679309  0.524256  0.752844\n",
       "2  0.587150  0.137027  0.938175  0.590607  0.840056  0.652926\n",
       "3  0.176337  0.909013  0.356048  0.306722  0.134125  0.669478\n",
       "4  0.790946  0.155954  0.173121  0.310723  0.989607  0.294101"
      ]
     },
     "execution_count": 6,
     "metadata": {},
     "output_type": "execute_result"
    }
   ],
   "source": [
    "X = pd.read_csv('https://dl.dropboxusercontent.com/u/558313/keras-js/test_new.csv', nrows=nTimesteps*batch_size, header=None)\n",
    "X.head()"
   ]
  },
  {
   "cell_type": "code",
   "execution_count": 7,
   "metadata": {
    "collapsed": false
   },
   "outputs": [],
   "source": [
    "X = X.as_matrix()"
   ]
  },
  {
   "cell_type": "code",
   "execution_count": 8,
   "metadata": {
    "collapsed": false,
    "scrolled": true
   },
   "outputs": [
    {
     "data": {
      "text/plain": [
       "(8192, 6)"
      ]
     },
     "execution_count": 8,
     "metadata": {},
     "output_type": "execute_result"
    }
   ],
   "source": [
    "X.shape"
   ]
  },
  {
   "cell_type": "markdown",
   "metadata": {},
   "source": [
    "Make it `(batchSize x nTimesteps, nChannels)`"
   ]
  },
  {
   "cell_type": "code",
   "execution_count": 9,
   "metadata": {
    "collapsed": false
   },
   "outputs": [
    {
     "data": {
      "text/plain": [
       "(64, 128, 6)"
      ]
     },
     "execution_count": 9,
     "metadata": {},
     "output_type": "execute_result"
    }
   ],
   "source": [
    "X = np.reshape(X, (-1, nTimesteps, 6))\n",
    "X.shape"
   ]
  },
  {
   "cell_type": "code",
   "execution_count": 10,
   "metadata": {
    "collapsed": false
   },
   "outputs": [
    {
     "name": "stderr",
     "output_type": "stream",
     "text": [
      "/home/steffen/bin/anaconda3/envs/equestic/lib/python3.5/site-packages/numpy/core/numeric.py:190: VisibleDeprecationWarning: using a non-integer number instead of an integer will result in an error in the future\n",
      "  a = empty(shape, dtype, order)\n",
      "/home/steffen/bin/anaconda3/envs/equestic/lib/python3.5/site-packages/ipykernel/__main__.py:1: VisibleDeprecationWarning: using a non-integer number instead of an integer will result in an error in the future\n",
      "  if __name__ == '__main__':\n"
     ]
    }
   ],
   "source": [
    "target = np.hstack((np.ones((1,batch_size/2)), np.zeros((1,batch_size/2))))\n",
    "target = np.transpose(target)"
   ]
  },
  {
   "cell_type": "code",
   "execution_count": 11,
   "metadata": {
    "collapsed": false
   },
   "outputs": [],
   "source": [
    "Y = np.column_stack((target, np.flipud(target)))"
   ]
  },
  {
   "cell_type": "code",
   "execution_count": 12,
   "metadata": {
    "collapsed": false
   },
   "outputs": [
    {
     "data": {
      "text/plain": [
       "(64, 2)"
      ]
     },
     "execution_count": 12,
     "metadata": {},
     "output_type": "execute_result"
    }
   ],
   "source": [
    "Y.shape"
   ]
  },
  {
   "cell_type": "code",
   "execution_count": 13,
   "metadata": {
    "collapsed": false
   },
   "outputs": [],
   "source": [
    "n_hidden = 64\n",
    "\n",
    "model = Sequential()\n",
    "model.add(LSTM(n_hidden,\n",
    "               return_sequences=True,\n",
    "               batch_input_shape=(batch_size, nTimesteps, X.shape[2])\n",
    "              ))\n",
    "model.add(Dropout(0.2))\n",
    "model.add(LSTM(n_hidden))\n",
    "model.add(Dropout(0.2))\n",
    "model.add(Dense(2, activation='softmax'))\n",
    "\n",
    "model.compile(loss='binary_crossentropy', optimizer='rmsprop', metrics=['accuracy'])"
   ]
  },
  {
   "cell_type": "code",
   "execution_count": 14,
   "metadata": {
    "collapsed": false
   },
   "outputs": [
    {
     "name": "stdout",
     "output_type": "stream",
     "text": [
      "____________________________________________________________________________________________________\n",
      "Layer (type)                     Output Shape          Param #     Connected to                     \n",
      "====================================================================================================\n",
      "lstm_1 (LSTM)                    (64, 128, 64)         18176       lstm_input_1[0][0]               \n",
      "____________________________________________________________________________________________________\n",
      "dropout_1 (Dropout)              (64, 128, 64)         0           lstm_1[0][0]                     \n",
      "____________________________________________________________________________________________________\n",
      "lstm_2 (LSTM)                    (64, 64)              33024       dropout_1[0][0]                  \n",
      "____________________________________________________________________________________________________\n",
      "dropout_2 (Dropout)              (64, 64)              0           lstm_2[0][0]                     \n",
      "____________________________________________________________________________________________________\n",
      "dense_1 (Dense)                  (64, 2)               130         dropout_2[0][0]                  \n",
      "====================================================================================================\n",
      "Total params: 51330\n",
      "____________________________________________________________________________________________________\n",
      "None\n"
     ]
    }
   ],
   "source": [
    "print(model.summary())"
   ]
  },
  {
   "cell_type": "code",
   "execution_count": 15,
   "metadata": {
    "collapsed": false
   },
   "outputs": [
    {
     "name": "stdout",
     "output_type": "stream",
     "text": [
      "Epoch 1/10\n",
      "64/64 [==============================] - 1s - loss: 0.7095 - acc: 0.4688\n",
      "Epoch 2/10\n",
      "64/64 [==============================] - 0s - loss: 0.7163 - acc: 0.5156\n",
      "Epoch 3/10\n",
      "64/64 [==============================] - 0s - loss: 0.8082 - acc: 0.5000\n",
      "Epoch 4/10\n",
      "64/64 [==============================] - 0s - loss: 0.7601 - acc: 0.5000\n",
      "Epoch 5/10\n",
      "64/64 [==============================] - 0s - loss: 0.7371 - acc: 0.4844\n",
      "Epoch 6/10\n",
      "64/64 [==============================] - 0s - loss: 0.6814 - acc: 0.5781\n",
      "Epoch 7/10\n",
      "64/64 [==============================] - 0s - loss: 0.6991 - acc: 0.4844\n",
      "Epoch 8/10\n",
      "64/64 [==============================] - 0s - loss: 0.7240 - acc: 0.4062\n",
      "Epoch 9/10\n",
      "64/64 [==============================] - 0s - loss: 0.6970 - acc: 0.5312\n",
      "Epoch 10/10\n",
      "64/64 [==============================] - 0s - loss: 0.6780 - acc: 0.6094\n"
     ]
    }
   ],
   "source": [
    "history = model.fit(X,Y,batch_size=batch_size)"
   ]
  },
  {
   "cell_type": "code",
   "execution_count": 16,
   "metadata": {
    "collapsed": true
   },
   "outputs": [],
   "source": [
    "model.save_weights('model.hdf5')\n",
    "with open('model.json', 'w') as f:\n",
    "    f.write(model.to_json())"
   ]
  },
  {
   "cell_type": "code",
   "execution_count": 17,
   "metadata": {
    "collapsed": true
   },
   "outputs": [],
   "source": [
    "!python encoder.py model.hdf5"
   ]
  },
  {
   "cell_type": "code",
   "execution_count": 18,
   "metadata": {
    "collapsed": false
   },
   "outputs": [
    {
     "data": {
      "text/plain": [
       "array([[ 0.5048058 ,  0.49519429],\n",
       "       [ 0.48626968,  0.51373035],\n",
       "       [ 0.51306689,  0.48693311],\n",
       "       [ 0.5060125 ,  0.49398756],\n",
       "       [ 0.50179213,  0.49820781],\n",
       "       [ 0.51991212,  0.48008794],\n",
       "       [ 0.52513933,  0.47486073],\n",
       "       [ 0.49827269,  0.50172734],\n",
       "       [ 0.49479485,  0.50520521],\n",
       "       [ 0.50521934,  0.49478063],\n",
       "       [ 0.49181676,  0.5081833 ],\n",
       "       [ 0.51152986,  0.48847014],\n",
       "       [ 0.51833814,  0.48166192],\n",
       "       [ 0.49721789,  0.50278205],\n",
       "       [ 0.49942103,  0.500579  ],\n",
       "       [ 0.50356525,  0.49643466],\n",
       "       [ 0.5063166 ,  0.49368343],\n",
       "       [ 0.52224225,  0.47775775],\n",
       "       [ 0.50790608,  0.49209398],\n",
       "       [ 0.51393336,  0.48606667],\n",
       "       [ 0.50063878,  0.49936128],\n",
       "       [ 0.50423473,  0.49576533],\n",
       "       [ 0.50791854,  0.49208149],\n",
       "       [ 0.50661182,  0.49338815],\n",
       "       [ 0.5019998 ,  0.4980002 ],\n",
       "       [ 0.49754021,  0.50245982],\n",
       "       [ 0.51188141,  0.48811862],\n",
       "       [ 0.52017665,  0.47982338],\n",
       "       [ 0.49647522,  0.50352478],\n",
       "       [ 0.51667124,  0.48332882],\n",
       "       [ 0.50108695,  0.49891308],\n",
       "       [ 0.51507127,  0.48492876],\n",
       "       [ 0.50997335,  0.49002668],\n",
       "       [ 0.48420399,  0.51579601],\n",
       "       [ 0.49570084,  0.50429916],\n",
       "       [ 0.49813136,  0.50186861],\n",
       "       [ 0.48585528,  0.51414472],\n",
       "       [ 0.49897602,  0.50102395],\n",
       "       [ 0.49121481,  0.50878519],\n",
       "       [ 0.49025831,  0.50974166],\n",
       "       [ 0.47571799,  0.52428204],\n",
       "       [ 0.50673348,  0.49326649],\n",
       "       [ 0.50729382,  0.49270618],\n",
       "       [ 0.505831  ,  0.494169  ],\n",
       "       [ 0.51699257,  0.48300746],\n",
       "       [ 0.50869781,  0.49130219],\n",
       "       [ 0.48338228,  0.51661766],\n",
       "       [ 0.50346124,  0.49653876],\n",
       "       [ 0.5005675 ,  0.49943253],\n",
       "       [ 0.50905818,  0.49094176],\n",
       "       [ 0.5021019 ,  0.4978981 ],\n",
       "       [ 0.50592148,  0.49407858],\n",
       "       [ 0.48866904,  0.51133096],\n",
       "       [ 0.50600553,  0.49399444],\n",
       "       [ 0.50191164,  0.49808839],\n",
       "       [ 0.48995927,  0.5100407 ],\n",
       "       [ 0.51105607,  0.48894399],\n",
       "       [ 0.49353406,  0.50646591],\n",
       "       [ 0.48489267,  0.51510739],\n",
       "       [ 0.50639498,  0.49360502],\n",
       "       [ 0.49703461,  0.50296539],\n",
       "       [ 0.5086664 ,  0.49133354],\n",
       "       [ 0.48965034,  0.51034969],\n",
       "       [ 0.49548042,  0.50451952]], dtype=float32)"
      ]
     },
     "execution_count": 18,
     "metadata": {},
     "output_type": "execute_result"
    }
   ],
   "source": [
    "predictions = model.predict(X, batch_size=batch_size)\n",
    "predictions"
   ]
  },
  {
   "cell_type": "code",
   "execution_count": null,
   "metadata": {
    "collapsed": true
   },
   "outputs": [],
   "source": []
  }
 ],
 "metadata": {
  "kernelspec": {
   "display_name": "Python 3",
   "language": "python",
   "name": "python3"
  },
  "language_info": {
   "codemirror_mode": {
    "name": "ipython",
    "version": 3
   },
   "file_extension": ".py",
   "mimetype": "text/x-python",
   "name": "python",
   "nbconvert_exporter": "python",
   "pygments_lexer": "ipython3",
   "version": "3.5.2"
  }
 },
 "nbformat": 4,
 "nbformat_minor": 1
}
