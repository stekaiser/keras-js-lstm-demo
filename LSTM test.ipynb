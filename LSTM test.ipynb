{
 "cells": [
  {
   "cell_type": "code",
   "execution_count": 1,
   "metadata": {
    "collapsed": false
   },
   "outputs": [
    {
     "name": "stderr",
     "output_type": "stream",
     "text": [
      "Using TensorFlow backend.\n"
     ]
    },
    {
     "name": "stdout",
     "output_type": "stream",
     "text": [
      "stekaiser 2016-11-30 10:43:52 \n",
      "\n",
      "CPython 3.5.2\n",
      "IPython 5.1.0\n",
      "\n",
      "numpy 1.11.2\n",
      "pandas 0.19.1\n",
      "matplotlib 1.5.3\n",
      "keras 1.1.1\n",
      "tensorflow 0.11.0\n",
      "Git hash: 30d9779fb4e8f7bc8cabbc71b9aba3fd48f6ddec\n"
     ]
    }
   ],
   "source": [
    "%matplotlib inline\n",
    "%load_ext autoreload\n",
    "%autoreload 1\n",
    "\n",
    "%load_ext watermark\n",
    "%watermark -a 'stekaiser' -d -t -v -p numpy,pandas,matplotlib,keras,tensorflow -g"
   ]
  },
  {
   "cell_type": "code",
   "execution_count": 2,
   "metadata": {
    "collapsed": true
   },
   "outputs": [],
   "source": [
    "import os\n",
    "import sys\n",
    "\n",
    "project_dir = os.path.join(os.getcwd(), os.pardir)\n",
    "sys.path.insert(0, project_dir)\n",
    "\n",
    "import pandas as pd\n",
    "import matplotlib.pyplot as plt\n",
    "import seaborn as sns\n",
    "import numpy as np\n",
    "import zipfile\n",
    "from dotenv import find_dotenv, load_dotenv\n",
    "\n",
    "# show all columns\n",
    "pd.set_option('display.max_columns', None)"
   ]
  },
  {
   "cell_type": "code",
   "execution_count": 3,
   "metadata": {
    "collapsed": true
   },
   "outputs": [],
   "source": [
    "from keras import backend as K\n",
    "from keras.models import Sequential\n",
    "from keras.layers import Dense\n",
    "from keras.layers import LSTM\n",
    "from keras.layers import Convolution1D\n",
    "from keras.layers import MaxPooling1D,Flatten\n",
    "from keras.layers import GRU\n",
    "from keras.layers import Dropout\n",
    "from keras.regularizers import l2, activity_l2\n",
    "from keras.layers.embeddings import Embedding\n",
    "from keras.optimizers import Adam\n",
    "from keras.preprocessing import sequence\n",
    "from keras.utils import np_utils\n",
    "from keras.models import load_model\n",
    "from keras.callbacks import TensorBoard,ModelCheckpoint,EarlyStopping,Callback\n",
    "# fix random seed for reproducibility\n",
    "np.random.seed(7)\n",
    "\n",
    "sys.setrecursionlimit(50000)"
   ]
  },
  {
   "cell_type": "code",
   "execution_count": 4,
   "metadata": {
    "collapsed": true
   },
   "outputs": [],
   "source": [
    "import itertools\n",
    "from sklearn import preprocessing\n",
    "from sklearn import model_selection\n",
    "from sklearn import metrics"
   ]
  },
  {
   "cell_type": "code",
   "execution_count": 5,
   "metadata": {
    "collapsed": true
   },
   "outputs": [],
   "source": [
    "batch_size = 64\n",
    "nTimesteps = 128"
   ]
  },
  {
   "cell_type": "code",
   "execution_count": 6,
   "metadata": {
    "collapsed": false
   },
   "outputs": [
    {
     "data": {
      "text/html": [
       "<div>\n",
       "<table border=\"1\" class=\"dataframe\">\n",
       "  <thead>\n",
       "    <tr style=\"text-align: right;\">\n",
       "      <th></th>\n",
       "      <th>0</th>\n",
       "      <th>1</th>\n",
       "      <th>2</th>\n",
       "      <th>3</th>\n",
       "      <th>4</th>\n",
       "      <th>5</th>\n",
       "    </tr>\n",
       "  </thead>\n",
       "  <tbody>\n",
       "    <tr>\n",
       "      <th>0</th>\n",
       "      <td>-0.675415</td>\n",
       "      <td>0.119995</td>\n",
       "      <td>0.767578</td>\n",
       "      <td>-0.095274</td>\n",
       "      <td>-0.266768</td>\n",
       "      <td>-0.213415</td>\n",
       "    </tr>\n",
       "    <tr>\n",
       "      <th>1</th>\n",
       "      <td>-0.678223</td>\n",
       "      <td>0.120972</td>\n",
       "      <td>0.772949</td>\n",
       "      <td>-0.323933</td>\n",
       "      <td>-0.400152</td>\n",
       "      <td>-0.571646</td>\n",
       "    </tr>\n",
       "    <tr>\n",
       "      <th>2</th>\n",
       "      <td>-0.679810</td>\n",
       "      <td>0.117310</td>\n",
       "      <td>0.770142</td>\n",
       "      <td>-0.434451</td>\n",
       "      <td>-0.457317</td>\n",
       "      <td>-0.567835</td>\n",
       "    </tr>\n",
       "    <tr>\n",
       "      <th>3</th>\n",
       "      <td>-0.681519</td>\n",
       "      <td>0.115234</td>\n",
       "      <td>0.767822</td>\n",
       "      <td>-0.125762</td>\n",
       "      <td>-0.514482</td>\n",
       "      <td>-0.522104</td>\n",
       "    </tr>\n",
       "    <tr>\n",
       "      <th>4</th>\n",
       "      <td>-0.680298</td>\n",
       "      <td>0.113770</td>\n",
       "      <td>0.773804</td>\n",
       "      <td>-0.053354</td>\n",
       "      <td>-0.327744</td>\n",
       "      <td>-0.472561</td>\n",
       "    </tr>\n",
       "  </tbody>\n",
       "</table>\n",
       "</div>"
      ],
      "text/plain": [
       "          0         1         2         3         4         5\n",
       "0 -0.675415  0.119995  0.767578 -0.095274 -0.266768 -0.213415\n",
       "1 -0.678223  0.120972  0.772949 -0.323933 -0.400152 -0.571646\n",
       "2 -0.679810  0.117310  0.770142 -0.434451 -0.457317 -0.567835\n",
       "3 -0.681519  0.115234  0.767822 -0.125762 -0.514482 -0.522104\n",
       "4 -0.680298  0.113770  0.773804 -0.053354 -0.327744 -0.472561"
      ]
     },
     "execution_count": 6,
     "metadata": {},
     "output_type": "execute_result"
    }
   ],
   "source": [
    "X = pd.read_csv('https://dl.dropboxusercontent.com/u/558313/keras-js/test.csv', header=None, nrows=nTimesteps*batch_size)\n",
    "X.head()"
   ]
  },
  {
   "cell_type": "code",
   "execution_count": 7,
   "metadata": {
    "collapsed": false
   },
   "outputs": [],
   "source": [
    "X = X.as_matrix()"
   ]
  },
  {
   "cell_type": "code",
   "execution_count": 8,
   "metadata": {
    "collapsed": false,
    "scrolled": true
   },
   "outputs": [
    {
     "data": {
      "text/plain": [
       "(8192, 6)"
      ]
     },
     "execution_count": 8,
     "metadata": {},
     "output_type": "execute_result"
    }
   ],
   "source": [
    "X.shape"
   ]
  },
  {
   "cell_type": "code",
   "execution_count": 9,
   "metadata": {
    "collapsed": false
   },
   "outputs": [
    {
     "data": {
      "text/plain": [
       "(64, 128, 6)"
      ]
     },
     "execution_count": 9,
     "metadata": {},
     "output_type": "execute_result"
    }
   ],
   "source": [
    "X = np.reshape(X, (-1, nTimesteps, 6))\n",
    "X.shape"
   ]
  },
  {
   "cell_type": "code",
   "execution_count": 10,
   "metadata": {
    "collapsed": false
   },
   "outputs": [
    {
     "name": "stderr",
     "output_type": "stream",
     "text": [
      "/home/steffen/bin/anaconda3/envs/equestic/lib/python3.5/site-packages/numpy/core/numeric.py:190: VisibleDeprecationWarning: using a non-integer number instead of an integer will result in an error in the future\n",
      "  a = empty(shape, dtype, order)\n",
      "/home/steffen/bin/anaconda3/envs/equestic/lib/python3.5/site-packages/ipykernel/__main__.py:1: VisibleDeprecationWarning: using a non-integer number instead of an integer will result in an error in the future\n",
      "  if __name__ == '__main__':\n"
     ]
    }
   ],
   "source": [
    "target = np.hstack((np.ones((1,batch_size/2)), np.zeros((1,batch_size/2))))\n",
    "target = np.transpose(target)"
   ]
  },
  {
   "cell_type": "code",
   "execution_count": 11,
   "metadata": {
    "collapsed": false
   },
   "outputs": [],
   "source": [
    "Y = np.column_stack((target, np.flipud(target)))"
   ]
  },
  {
   "cell_type": "code",
   "execution_count": 12,
   "metadata": {
    "collapsed": false
   },
   "outputs": [
    {
     "data": {
      "text/plain": [
       "(64, 2)"
      ]
     },
     "execution_count": 12,
     "metadata": {},
     "output_type": "execute_result"
    }
   ],
   "source": [
    "Y.shape"
   ]
  },
  {
   "cell_type": "code",
   "execution_count": 13,
   "metadata": {
    "collapsed": false
   },
   "outputs": [],
   "source": [
    "n_hidden = 64\n",
    "\n",
    "model = Sequential()\n",
    "model.add(LSTM(n_hidden,\n",
    "               return_sequences=True,\n",
    "               batch_input_shape=(batch_size, nTimesteps, X.shape[2])\n",
    "              ))\n",
    "model.add(Dropout(0.2))\n",
    "model.add(LSTM(n_hidden))\n",
    "model.add(Dropout(0.2))\n",
    "model.add(Dense(2, activation='softmax'))\n",
    "\n",
    "model.compile(loss='binary_crossentropy', optimizer='rmsprop', metrics=['accuracy'])"
   ]
  },
  {
   "cell_type": "code",
   "execution_count": 14,
   "metadata": {
    "collapsed": false
   },
   "outputs": [
    {
     "name": "stdout",
     "output_type": "stream",
     "text": [
      "____________________________________________________________________________________________________\n",
      "Layer (type)                     Output Shape          Param #     Connected to                     \n",
      "====================================================================================================\n",
      "lstm_1 (LSTM)                    (64, 128, 64)         18176       lstm_input_1[0][0]               \n",
      "____________________________________________________________________________________________________\n",
      "dropout_1 (Dropout)              (64, 128, 64)         0           lstm_1[0][0]                     \n",
      "____________________________________________________________________________________________________\n",
      "lstm_2 (LSTM)                    (64, 64)              33024       dropout_1[0][0]                  \n",
      "____________________________________________________________________________________________________\n",
      "dropout_2 (Dropout)              (64, 64)              0           lstm_2[0][0]                     \n",
      "____________________________________________________________________________________________________\n",
      "dense_1 (Dense)                  (64, 2)               130         dropout_2[0][0]                  \n",
      "====================================================================================================\n",
      "Total params: 51330\n",
      "____________________________________________________________________________________________________\n",
      "None\n"
     ]
    }
   ],
   "source": [
    "print(model.summary())"
   ]
  },
  {
   "cell_type": "code",
   "execution_count": 15,
   "metadata": {
    "collapsed": false
   },
   "outputs": [
    {
     "name": "stdout",
     "output_type": "stream",
     "text": [
      "Epoch 1/10\n",
      "64/64 [==============================] - 2s - loss: 0.7442 - acc: 0.4531\n",
      "Epoch 2/10\n",
      "64/64 [==============================] - 0s - loss: 0.5825 - acc: 0.6875\n",
      "Epoch 3/10\n",
      "64/64 [==============================] - 0s - loss: 0.4753 - acc: 0.8281\n",
      "Epoch 4/10\n",
      "64/64 [==============================] - 0s - loss: 0.4169 - acc: 0.8438\n",
      "Epoch 5/10\n",
      "64/64 [==============================] - 0s - loss: 0.3730 - acc: 0.9062\n",
      "Epoch 6/10\n",
      "64/64 [==============================] - 0s - loss: 0.3300 - acc: 0.9219\n",
      "Epoch 7/10\n",
      "64/64 [==============================] - 0s - loss: 0.2910 - acc: 0.9219\n",
      "Epoch 8/10\n",
      "64/64 [==============================] - 0s - loss: 0.2618 - acc: 0.9219\n",
      "Epoch 9/10\n",
      "64/64 [==============================] - 0s - loss: 0.2512 - acc: 0.9375\n",
      "Epoch 10/10\n",
      "64/64 [==============================] - 0s - loss: 0.2090 - acc: 0.9688\n"
     ]
    }
   ],
   "source": [
    "history = model.fit(X,Y,batch_size=batch_size)"
   ]
  },
  {
   "cell_type": "code",
   "execution_count": 16,
   "metadata": {
    "collapsed": true
   },
   "outputs": [],
   "source": [
    "model.save_weights('model.hdf5')\n",
    "with open('model.json', 'w') as f:\n",
    "    f.write(model.to_json())"
   ]
  },
  {
   "cell_type": "code",
   "execution_count": 17,
   "metadata": {
    "collapsed": true
   },
   "outputs": [],
   "source": [
    "!python encoder.py model.hdf5"
   ]
  },
  {
   "cell_type": "code",
   "execution_count": 18,
   "metadata": {
    "collapsed": false
   },
   "outputs": [
    {
     "data": {
      "text/plain": [
       "array([[ 0.31724325,  0.68275672],\n",
       "       [ 0.90975976,  0.09024023],\n",
       "       [ 0.87762398,  0.122376  ],\n",
       "       [ 0.93834227,  0.06165776],\n",
       "       [ 0.88266033,  0.11733963],\n",
       "       [ 0.90553862,  0.09446137],\n",
       "       [ 0.94907153,  0.05092849],\n",
       "       [ 0.95107436,  0.04892569],\n",
       "       [ 0.94742876,  0.05257123],\n",
       "       [ 0.91391933,  0.08608065],\n",
       "       [ 0.91795993,  0.0820401 ],\n",
       "       [ 0.92521197,  0.07478802],\n",
       "       [ 0.8990615 ,  0.10093845],\n",
       "       [ 0.92951882,  0.07048124],\n",
       "       [ 0.90169513,  0.09830484],\n",
       "       [ 0.71666789,  0.28333211],\n",
       "       [ 0.76397669,  0.23602328],\n",
       "       [ 0.90388757,  0.09611249],\n",
       "       [ 0.95897883,  0.04102112],\n",
       "       [ 0.91739577,  0.08260423],\n",
       "       [ 0.8046127 ,  0.19538733],\n",
       "       [ 0.91067666,  0.08932333],\n",
       "       [ 0.85947478,  0.14052521],\n",
       "       [ 0.92424065,  0.07575927],\n",
       "       [ 0.86662441,  0.1333756 ],\n",
       "       [ 0.9046517 ,  0.09534832],\n",
       "       [ 0.92388523,  0.07611479],\n",
       "       [ 0.96307957,  0.0369204 ],\n",
       "       [ 0.94002074,  0.05997929],\n",
       "       [ 0.84595788,  0.15404212],\n",
       "       [ 0.54407811,  0.45592189],\n",
       "       [ 0.68326783,  0.3167322 ],\n",
       "       [ 0.05273705,  0.94726294],\n",
       "       [ 0.05204016,  0.94795978],\n",
       "       [ 0.16165517,  0.83834481],\n",
       "       [ 0.10311659,  0.89688343],\n",
       "       [ 0.09821249,  0.90178752],\n",
       "       [ 0.11534641,  0.88465357],\n",
       "       [ 0.03740231,  0.96259773],\n",
       "       [ 0.06260025,  0.9373998 ],\n",
       "       [ 0.06390855,  0.93609142],\n",
       "       [ 0.06697564,  0.93302435],\n",
       "       [ 0.07648465,  0.92351538],\n",
       "       [ 0.03939254,  0.96060741],\n",
       "       [ 0.15850918,  0.84149081],\n",
       "       [ 0.15010121,  0.84989876],\n",
       "       [ 0.18849026,  0.81150973],\n",
       "       [ 0.28560904,  0.71439093],\n",
       "       [ 0.08048852,  0.9195115 ],\n",
       "       [ 0.17603996,  0.82396007],\n",
       "       [ 0.8320418 ,  0.1679582 ],\n",
       "       [ 0.22092138,  0.77907866],\n",
       "       [ 0.15174389,  0.84825611],\n",
       "       [ 0.18676177,  0.81323826],\n",
       "       [ 0.15375237,  0.84624761],\n",
       "       [ 0.08132998,  0.91867   ],\n",
       "       [ 0.0664295 ,  0.9335705 ],\n",
       "       [ 0.02997995,  0.97002   ],\n",
       "       [ 0.03585983,  0.96414024],\n",
       "       [ 0.08726508,  0.91273493],\n",
       "       [ 0.10462534,  0.89537472],\n",
       "       [ 0.0383816 ,  0.96161842],\n",
       "       [ 0.05797016,  0.94202983],\n",
       "       [ 0.05829958,  0.9417004 ]], dtype=float32)"
      ]
     },
     "execution_count": 18,
     "metadata": {},
     "output_type": "execute_result"
    }
   ],
   "source": [
    "predictions = model.predict(X, batch_size=batch_size)\n",
    "predictions"
   ]
  },
  {
   "cell_type": "code",
   "execution_count": null,
   "metadata": {
    "collapsed": true
   },
   "outputs": [],
   "source": []
  }
 ],
 "metadata": {
  "kernelspec": {
   "display_name": "Python 3",
   "language": "python",
   "name": "python3"
  },
  "language_info": {
   "codemirror_mode": {
    "name": "ipython",
    "version": 3
   },
   "file_extension": ".py",
   "mimetype": "text/x-python",
   "name": "python",
   "nbconvert_exporter": "python",
   "pygments_lexer": "ipython3",
   "version": "3.5.2"
  }
 },
 "nbformat": 4,
 "nbformat_minor": 1
}
